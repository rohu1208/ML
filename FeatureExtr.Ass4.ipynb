{
 "cells": [
  {
   "cell_type": "markdown",
   "id": "77ec5705",
   "metadata": {},
   "source": [
    "Q1. Difference between Ordinal Encoding and Label Encoding\n",
    "Ordinal Encoding: Assigns a unique integer to each category while preserving the order of categories. It is used for ordinal variables where the categories have a meaningful order.\n",
    "\n",
    "Label Encoding: Assigns a unique integer to each category without considering any order. It is used for nominal variables where the categories do not have a meaningful order."
   ]
  },
  {
   "cell_type": "raw",
   "id": "381d5e4a",
   "metadata": {},
   "source": [
    "Q2. Target Guided Ordinal Encoding\n",
    "Target Guided Ordinal Encoding: Encodes categories based on the target variable. Categories are ordered according to their relationship with the target, such as mean target value.\n",
    "\n",
    "Example:\n",
    "In a dataset for predicting house prices, you might encode the \"Neighborhood\" variable based on the average house price in each neighborhood."
   ]
  },
  {
   "cell_type": "raw",
   "id": "18f0b776",
   "metadata": {},
   "source": [
    "Q3. Covariance\n",
    "Covariance: A measure of the degree to which two variables change together. A positive covariance indicates that the variables tend to increase together, while a negative covariance indicates that one variable tends to increase when the other decreases."
   ]
  },
  {
   "cell_type": "code",
   "execution_count": 1,
   "id": "87d6f421",
   "metadata": {},
   "outputs": [],
   "source": [
    "#Q4. Label Encoding with Scikit-Learn"
   ]
  },
  {
   "cell_type": "code",
   "execution_count": 2,
   "id": "759816cc",
   "metadata": {},
   "outputs": [
    {
     "name": "stdout",
     "output_type": "stream",
     "text": [
      "   Color    Size Material  Color Encoded  Size Encoded  Material Encoded\n",
      "0    red   small     wood              2             2                 2\n",
      "1  green  medium    metal              1             1                 0\n",
      "2   blue   large  plastic              0             0                 1\n",
      "3  green   small     wood              1             2                 2\n",
      "4    red   large    metal              2             0                 0\n"
     ]
    }
   ],
   "source": [
    "import pandas as pd\n",
    "from sklearn.preprocessing import LabelEncoder\n",
    "\n",
    "# Sample data\n",
    "data = pd.DataFrame({\n",
    "    'Color': ['red', 'green', 'blue', 'green', 'red'],\n",
    "    'Size': ['small', 'medium', 'large', 'small', 'large'],\n",
    "    'Material': ['wood', 'metal', 'plastic', 'wood', 'metal']\n",
    "})\n",
    "\n",
    "# Label encoding\n",
    "encoder = LabelEncoder()\n",
    "\n",
    "data['Color Encoded'] = encoder.fit_transform(data['Color'])\n",
    "data['Size Encoded'] = encoder.fit_transform(data['Size'])\n",
    "data['Material Encoded'] = encoder.fit_transform(data['Material'])\n",
    "\n",
    "print(data)\n"
   ]
  },
  {
   "cell_type": "code",
   "execution_count": 3,
   "id": "584fdb70",
   "metadata": {},
   "outputs": [
    {
     "name": "stdout",
     "output_type": "stream",
     "text": [
      "                       Age       Income  Education Level\n",
      "Age                 141.80     350000.0            11.75\n",
      "Income           350000.00  887500000.0         28750.00\n",
      "Education Level      11.75      28750.0             1.00\n"
     ]
    }
   ],
   "source": [
    "# Q5. Covariance Matrix for Age, Income, and Education Level\n",
    "\n",
    "import numpy as np\n",
    "import pandas as pd\n",
    "\n",
    "# Sample data\n",
    "data = pd.DataFrame({\n",
    "    'Age': [25, 45, 35, 50, 23],\n",
    "    'Income': [50000, 100000, 75000, 120000, 55000],\n",
    "    'Education Level': [2, 4, 3, 4, 2]  # Assume: 1=High School, 2=Bachelor's, 3=Master's, 4=PhD\n",
    "})\n",
    "\n",
    "# Calculate covariance matrix\n",
    "cov_matrix = data.cov()\n",
    "print(cov_matrix)\n"
   ]
  },
  {
   "cell_type": "raw",
   "id": "84035891",
   "metadata": {},
   "source": [
    "Q6. Encoding Methods for Categorical Variables\n",
    "Variables:\n",
    "\n",
    "Gender: Use One-Hot Encoding (few unique values, no order).\n",
    "Education Level: Use Ordinal Encoding (inherent order in education levels).\n",
    "Employment Status: Use One-Hot Encoding (no order, few categories)."
   ]
  },
  {
   "cell_type": "raw",
   "id": "440fa7e1",
   "metadata": {},
   "source": [
    "Q7. Covariance for Continuous and Categorical Variables\n",
    "Variables: Temperature, Humidity, Weather Condition (Sunny/Cloudy/Rainy), Wind Direction (North/South/East/West)"
   ]
  },
  {
   "cell_type": "code",
   "execution_count": 4,
   "id": "d6f7ab4a",
   "metadata": {},
   "outputs": [
    {
     "name": "stdout",
     "output_type": "stream",
     "text": [
      "             Temperature  Humidity\n",
      "Temperature          5.7       0.0\n",
      "Humidity             0.0      62.5\n"
     ]
    },
    {
     "name": "stderr",
     "output_type": "stream",
     "text": [
      "C:\\ProgramData\\anaconda3\\Lib\\site-packages\\sklearn\\preprocessing\\_encoders.py:972: FutureWarning: `sparse` was renamed to `sparse_output` in version 1.2 and will be removed in 1.4. `sparse_output` is ignored unless you leave `sparse` to its default value.\n",
      "  warnings.warn(\n",
      "C:\\ProgramData\\anaconda3\\Lib\\site-packages\\sklearn\\preprocessing\\_encoders.py:972: FutureWarning: `sparse` was renamed to `sparse_output` in version 1.2 and will be removed in 1.4. `sparse_output` is ignored unless you leave `sparse` to its default value.\n",
      "  warnings.warn(\n"
     ]
    }
   ],
   "source": [
    "import numpy as np\n",
    "import pandas as pd\n",
    "from sklearn.preprocessing import OneHotEncoder\n",
    "\n",
    "# Sample data\n",
    "data = pd.DataFrame({\n",
    "    'Temperature': [20, 22, 25, 19, 23],\n",
    "    'Humidity': [30, 40, 35, 45, 50],\n",
    "    'Weather Condition': ['Sunny', 'Cloudy', 'Rainy', 'Sunny', 'Rainy'],\n",
    "    'Wind Direction': ['North', 'South', 'East', 'West', 'North']\n",
    "})\n",
    "\n",
    "# One-Hot Encoding for categorical variables\n",
    "encoder = OneHotEncoder(sparse=False)\n",
    "encoded_weather = encoder.fit_transform(data[['Weather Condition']])\n",
    "encoded_wind = encoder.fit_transform(data[['Wind Direction']])\n",
    "\n",
    "# Combine continuous and encoded categorical data\n",
    "encoded_data = np.hstack((data[['Temperature', 'Humidity']].values, encoded_weather, encoded_wind))\n",
    "\n",
    "# Convert to DataFrame\n",
    "encoded_df = pd.DataFrame(encoded_data, columns=[\n",
    "    'Temperature', 'Humidity', \n",
    "    'Sunny', 'Cloudy', 'Rainy', \n",
    "    'North', 'South', 'East', 'West'\n",
    "])\n",
    "\n",
    "# Calculate covariance matrix for continuous variables\n",
    "cov_matrix = encoded_df[['Temperature', 'Humidity']].cov()\n",
    "print(cov_matrix)\n"
   ]
  },
  {
   "cell_type": "code",
   "execution_count": null,
   "id": "ff9c5369",
   "metadata": {},
   "outputs": [],
   "source": []
  }
 ],
 "metadata": {
  "kernelspec": {
   "display_name": "Python 3 (ipykernel)",
   "language": "python",
   "name": "python3"
  },
  "language_info": {
   "codemirror_mode": {
    "name": "ipython",
    "version": 3
   },
   "file_extension": ".py",
   "mimetype": "text/x-python",
   "name": "python",
   "nbconvert_exporter": "python",
   "pygments_lexer": "ipython3",
   "version": "3.11.4"
  }
 },
 "nbformat": 4,
 "nbformat_minor": 5
}
