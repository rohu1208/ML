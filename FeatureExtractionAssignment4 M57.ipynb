{
 "cells": [
  {
   "cell_type": "markdown",
   "id": "ef771d10",
   "metadata": {},
   "source": [
    "# Q1. What is Data Encoding?\n",
    "Data Encoding: The process of converting categorical data into a numerical format so that machine learning algorithms can process it. Categorical data, which includes nominal (no order) and ordinal (ordered) data, must be transformed into numerical values because most algorithms require numerical input.\n",
    "\n",
    "Usefulness in Data Science:\n",
    "\n",
    "Compatibility: Ensures that data is in a format compatible with machine learning algorithms.\n",
    "Improves Model Performance: Proper encoding can enhance the performance and accuracy of models.\n",
    "Handles Categorical Data: Converts categories into a form that preserves the meaning and relationships within the data."
   ]
  },
  {
   "cell_type": "markdown",
   "id": "d55c7953",
   "metadata": {},
   "source": [
    "# Q2. What is Nominal Encoding?\n",
    "Nominal Encoding: A method of converting categorical data with no inherent order (nominal data) into numerical values. Each category is assigned a unique integer."
   ]
  },
  {
   "cell_type": "code",
   "execution_count": 1,
   "id": "c54a4296",
   "metadata": {},
   "outputs": [
    {
     "name": "stdout",
     "output_type": "stream",
     "text": [
      "  Car Brand  Car Brand Encoded\n",
      "0    Toyota                  2\n",
      "1      Ford                  1\n",
      "2       BMW                  0\n",
      "3    Toyota                  2\n",
      "4       BMW                  0\n",
      "5      Ford                  1\n"
     ]
    }
   ],
   "source": [
    "#example\n",
    "\n",
    "import pandas as pd\n",
    "from sklearn.preprocessing import LabelEncoder\n",
    "\n",
    "data = pd.DataFrame({'Car Brand': ['Toyota', 'Ford', 'BMW', 'Toyota', 'BMW', 'Ford']})\n",
    "encoder = LabelEncoder()\n",
    "data['Car Brand Encoded'] = encoder.fit_transform(data['Car Brand'])\n",
    "print(data)\n"
   ]
  },
  {
   "cell_type": "markdown",
   "id": "6d3b8b90",
   "metadata": {},
   "source": [
    "# Q3. When is Nominal Encoding Preferred Over One-Hot Encoding?\n",
    "Situations:\n",
    "\n",
    "When the Categorical Variable has Many Unique Values: Nominal encoding is more space-efficient compared to one-hot encoding.\n",
    "When Ordinal Relationship is Irrelevant: Nominal encoding can be more practical for categories without any order or hierarchy."
   ]
  },
  {
   "cell_type": "markdown",
   "id": "2b657fcc",
   "metadata": {},
   "source": [
    "# Q4. Encoding Categorical Data with 5 Unique Values\n",
    "Choice of Encoding Technique: One-Hot Encoding"
   ]
  },
  {
   "cell_type": "code",
   "execution_count": 2,
   "id": "2cca99bd",
   "metadata": {},
   "outputs": [
    {
     "name": "stdout",
     "output_type": "stream",
     "text": [
      "[[1. 0. 0. 0. 0.]\n",
      " [0. 1. 0. 0. 0.]\n",
      " [0. 0. 1. 0. 0.]\n",
      " [0. 0. 0. 1. 0.]\n",
      " [0. 0. 0. 0. 1.]]\n"
     ]
    },
    {
     "name": "stderr",
     "output_type": "stream",
     "text": [
      "C:\\ProgramData\\anaconda3\\Lib\\site-packages\\sklearn\\preprocessing\\_encoders.py:972: FutureWarning: `sparse` was renamed to `sparse_output` in version 1.2 and will be removed in 1.4. `sparse_output` is ignored unless you leave `sparse` to its default value.\n",
      "  warnings.warn(\n"
     ]
    }
   ],
   "source": [
    "import pandas as pd\n",
    "from sklearn.preprocessing import OneHotEncoder\n",
    "\n",
    "# Sample data\n",
    "data = pd.DataFrame({'Category': ['A', 'B', 'C', 'D', 'E']})\n",
    "\n",
    "# One-Hot Encoding\n",
    "encoder = OneHotEncoder(sparse=False)\n",
    "encoded_data = encoder.fit_transform(data[['Category']])\n",
    "print(encoded_data)\n"
   ]
  },
  {
   "cell_type": "markdown",
   "id": "f8ec47dc",
   "metadata": {},
   "source": [
    "# Q5. Nominal Encoding with 1000 Rows and 5 Columns (2 Categorical)\n",
    "Columns and Calculations:\n",
    "\n",
    "Assume 2 categorical columns: Cat1 with 4 unique values and Cat2 with 3 unique values.\n",
    "Encoding:\n",
    "\n",
    "Nominal Encoding: Each unique value in a categorical column is assigned a unique integer.\n",
    "Number of New Columns: Nominal encoding does not increase the number of columns; it transforms existing columns into encoded form."
   ]
  },
  {
   "cell_type": "markdown",
   "id": "f893b014",
   "metadata": {},
   "source": [
    "# Q6. Encoding Technique for Animal Dataset"
   ]
  },
  {
   "cell_type": "code",
   "execution_count": 3,
   "id": "1cfeac79",
   "metadata": {},
   "outputs": [
    {
     "name": "stdout",
     "output_type": "stream",
     "text": [
      "[[0. 1. 0. 0. 1. 1. 0.]\n",
      " [0. 0. 1. 1. 0. 1. 0.]\n",
      " [1. 0. 0. 0. 1. 0. 1.]\n",
      " [0. 0. 1. 1. 0. 1. 0.]]\n"
     ]
    },
    {
     "name": "stderr",
     "output_type": "stream",
     "text": [
      "C:\\ProgramData\\anaconda3\\Lib\\site-packages\\sklearn\\preprocessing\\_encoders.py:972: FutureWarning: `sparse` was renamed to `sparse_output` in version 1.2 and will be removed in 1.4. `sparse_output` is ignored unless you leave `sparse` to its default value.\n",
      "  warnings.warn(\n"
     ]
    }
   ],
   "source": [
    "import pandas as pd\n",
    "from sklearn.preprocessing import OneHotEncoder\n",
    "\n",
    "# Sample data\n",
    "data = pd.DataFrame({\n",
    "    'Species': ['Lion', 'Tiger', 'Elephant', 'Tiger'],\n",
    "    'Habitat': ['Savanna', 'Forest', 'Savanna', 'Forest'],\n",
    "    'Diet': ['Carnivore', 'Carnivore', 'Herbivore', 'Carnivore']\n",
    "})\n",
    "\n",
    "# One-Hot Encoding\n",
    "encoder = OneHotEncoder(sparse=False)\n",
    "encoded_data = encoder.fit_transform(data)\n",
    "print(encoded_data)\n"
   ]
  },
  {
   "cell_type": "markdown",
   "id": "5bd7494f",
   "metadata": {},
   "source": [
    "# Q7. Encoding Categorical Data for Customer Churn Prediction\n",
    "Features: gender, age, contract type, monthly charges, tenure."
   ]
  },
  {
   "cell_type": "code",
   "execution_count": 5,
   "id": "ffca1349",
   "metadata": {},
   "outputs": [
    {
     "name": "stdout",
     "output_type": "stream",
     "text": [
      "[[ 0.   1.   1.   0.   0.  23.  70.5  5. ]\n",
      " [ 1.   0.   0.   1.   0.  45.  88.3 20. ]\n",
      " [ 1.   0.   0.   0.   1.  31.  52.  15. ]\n",
      " [ 0.   1.   1.   0.   0.  22.  60.1 10. ]]\n"
     ]
    },
    {
     "name": "stderr",
     "output_type": "stream",
     "text": [
      "C:\\ProgramData\\anaconda3\\Lib\\site-packages\\sklearn\\preprocessing\\_encoders.py:972: FutureWarning: `sparse` was renamed to `sparse_output` in version 1.2 and will be removed in 1.4. `sparse_output` is ignored unless you leave `sparse` to its default value.\n",
      "  warnings.warn(\n"
     ]
    }
   ],
   "source": [
    "import pandas as pd\n",
    "from sklearn.preprocessing import OneHotEncoder\n",
    "import numpy as np\n",
    "# Sample data\n",
    "data = pd.DataFrame({\n",
    "    'gender': ['Male', 'Female', 'Female', 'Male'],\n",
    "    'age': [23, 45, 31, 22],\n",
    "    'contract_type': ['Month-to-month', 'One year', 'Two year', 'Month-to-month'],\n",
    "    'monthly_charges': [70.5, 88.3, 52.0, 60.1],\n",
    "    'tenure': [5, 20, 15, 10]\n",
    "})\n",
    "\n",
    "# One-Hot Encoding for categorical features\n",
    "encoder = OneHotEncoder(sparse=False)\n",
    "categorical_data = data[['gender', 'contract_type']]\n",
    "encoded_categorical_data = encoder.fit_transform(categorical_data)\n",
    "\n",
    "# Combine encoded categorical data with numerical data\n",
    "numerical_data = data[['age', 'monthly_charges', 'tenure']].values\n",
    "processed_data = np.hstack((encoded_categorical_data, numerical_data))\n",
    "\n",
    "print(processed_data)\n"
   ]
  },
  {
   "cell_type": "code",
   "execution_count": null,
   "id": "32ae0377",
   "metadata": {},
   "outputs": [],
   "source": []
  }
 ],
 "metadata": {
  "kernelspec": {
   "display_name": "Python 3 (ipykernel)",
   "language": "python",
   "name": "python3"
  },
  "language_info": {
   "codemirror_mode": {
    "name": "ipython",
    "version": 3
   },
   "file_extension": ".py",
   "mimetype": "text/x-python",
   "name": "python",
   "nbconvert_exporter": "python",
   "pygments_lexer": "ipython3",
   "version": "3.11.4"
  }
 },
 "nbformat": 4,
 "nbformat_minor": 5
}
