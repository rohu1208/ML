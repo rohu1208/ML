{
 "cells": [
  {
   "cell_type": "code",
   "execution_count": 2,
   "id": "2b65f682",
   "metadata": {},
   "outputs": [
    {
     "data": {
      "text/plain": [
       "'QD- E=plain thK followin* with an K=amplK-F\\nC) Artificial IntKlli*KncJ\\n<) MachinK LKarnin,\\nI) DKKp LKarning\\nQ2- What is supKrvisKd lKarnin*? List somK K=amplKs of supKrvisKd lKarnin*.\\nQ3- GWhat is unsupKrvisKd lKarnin*? List somK K=amplKs of unsupKrvisKd lKarnin*.\\nQ4- What is thK diffKrKncK bKtwKKn AI, ML, DL, and DS?\\nQ5- What arK thK main diffKrKncKs bKtwKKn supKrvisKd, unsupKrvisKd, and sKmi-supKrvisKd lKarnin*?\\nQ6- What is train, tKst and validation split? E=plain thK importancK of Kach tKrm.\\nQ7- How can unsupKrvisKd lKarnin* bK usKd in anomaly dKtKction?\\nQ8- List down somK commonly usKd supKrvisKd lKarnin* al*orithms and unsupKrvisKd lKarnin*\\nal*orithms.\\n'"
      ]
     },
     "execution_count": 2,
     "metadata": {},
     "output_type": "execute_result"
    }
   ],
   "source": [
    "'''QD- E=plain thK followin* with an K=amplK-F\n",
    "C) Artificial IntKlli*KncJ\n",
    "<) MachinK LKarnin,\n",
    "I) DKKp LKarning\n",
    "Q2- What is supKrvisKd lKarnin*? List somK K=amplKs of supKrvisKd lKarnin*.\n",
    "Q3- GWhat is unsupKrvisKd lKarnin*? List somK K=amplKs of unsupKrvisKd lKarnin*.\n",
    "Q4- What is thK diffKrKncK bKtwKKn AI, ML, DL, and DS?\n",
    "Q5- What arK thK main diffKrKncKs bKtwKKn supKrvisKd, unsupKrvisKd, and sKmi-supKrvisKd lKarnin*?\n",
    "Q6- What is train, tKst and validation split? E=plain thK importancK of Kach tKrm.\n",
    "Q7- How can unsupKrvisKd lKarnin* bK usKd in anomaly dKtKction?\n",
    "Q8- List down somK commonly usKd supKrvisKd lKarnin* al*orithms and unsupKrvisKd lKarnin*\n",
    "al*orithms.\n",
    "'''"
   ]
  },
  {
   "cell_type": "markdown",
   "id": "7949a4a5",
   "metadata": {},
   "source": [
    "# Q1: C) Artificial Intelligence (AI) D) Machine Learning (ML) I) Deep Learning (DL) DS) Data Science\n",
    "\n",
    "Q2: Supervised learning is a type of machine learning where the model is trained on labeled data to learn the relationship between input and output. Examples:\n",
    "\n",
    "Image classification\n",
    "Sentiment analysis\n",
    "Regression analysis\n",
    "Q3: Unsupervised learning is a type of machine learning where the model is trained on unlabeled data to discover patterns or relationships. Examples:\n",
    "\n",
    "Clustering\n",
    "Dimensionality reduction\n",
    "Anomaly detection\n",
    "Q4: AI: Artificial Intelligence (broad field that includes ML and DL) ML: Machine Learning (subset of AI that involves training models on data) DL: Deep Learning (subset of ML that involves neural networks) DS: Data Science (interdisciplinary field that includes ML, DL, and other data-related topics)\n",
    "\n",
    "Q5: Supervised learning: labeled data, model learns to predict output Unsupervised learning: unlabeled data, model discovers patterns Semi-supervised learning: combination of labeled and unlabeled data\n",
    "\n",
    "Q6: Train: training data used to train the model Test: testing data used to evaluate the model's performance Validation: validation data used to tune hyperparameters Importance: each split is crucial for model evaluation and improvement\n",
    "\n",
    "Q7: Unsupervised learning can be used in anomaly detection by identifying patterns or outliers in the data that do not conform to the norm.\n",
    "\n",
    "Q8: Supervised learning algorithms:\n",
    "\n",
    "Linear Regression\n",
    "Logistic Regression\n",
    "Decision Trees\n",
    "Random Forest\n",
    "Unsupervised learning algorithms:\n",
    "\n",
    "K-Means Clustering\n",
    "Hierarchical Clustering\n",
    "Principal Component Analysis (PCA)\n",
    "K-Nearest Neighbors (KNN)"
   ]
  },
  {
   "cell_type": "code",
   "execution_count": null,
   "id": "d84b43a3",
   "metadata": {},
   "outputs": [],
   "source": []
  }
 ],
 "metadata": {
  "kernelspec": {
   "display_name": "Python 3 (ipykernel)",
   "language": "python",
   "name": "python3"
  },
  "language_info": {
   "codemirror_mode": {
    "name": "ipython",
    "version": 3
   },
   "file_extension": ".py",
   "mimetype": "text/x-python",
   "name": "python",
   "nbconvert_exporter": "python",
   "pygments_lexer": "ipython3",
   "version": "3.11.4"
  }
 },
 "nbformat": 4,
 "nbformat_minor": 5
}
