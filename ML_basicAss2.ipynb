{
 "cells": [
  {
   "cell_type": "code",
   "execution_count": 1,
   "id": "3e8c1ee5",
   "metadata": {},
   "outputs": [
    {
     "data": {
      "text/plain": [
       "'Q1: Define overfitting and underfitting in machine learning. What are the consequences of each, and how\\ncan they be mitigated?\\nQ2: How can we reduce overfitting? Explain in brief.\\nQ3: Explain underfitting. List scenarios where underfitting can occur in ML.\\nQ4: Explain the bias-variance tradeoff in machine learning. What is the relationship between bias and\\nvariance, and how do they affect model performance?\\nQ5: Discuss some common methods for detecting overfitting and underfitting in machine learning models.\\nHow can you determine whether your model is overfitting or underfitting?\\nQ6: Compare and contrast bias and variance in machine learning. What are some examples of high bias\\nand high variance models, and how do they differ in terms of their performance?\\nQ7: What is regularization in machine learning, and how can it be used to prevent overfitting? Describe\\nsome common regularization techniques and how they work.\\n'"
      ]
     },
     "execution_count": 1,
     "metadata": {},
     "output_type": "execute_result"
    }
   ],
   "source": [
    "'''Q1: Define overfitting and underfitting in machine learning. What are the consequences of each, and how\n",
    "can they be mitigated?\n",
    "Q2: How can we reduce overfitting? Explain in brief.\n",
    "Q3: Explain underfitting. List scenarios where underfitting can occur in ML.\n",
    "Q4: Explain the bias-variance tradeoff in machine learning. What is the relationship between bias and\n",
    "variance, and how do they affect model performance?\n",
    "Q5: Discuss some common methods for detecting overfitting and underfitting in machine learning models.\n",
    "How can you determine whether your model is overfitting or underfitting?\n",
    "Q6: Compare and contrast bias and variance in machine learning. What are some examples of high bias\n",
    "and high variance models, and how do they differ in terms of their performance?\n",
    "Q7: What is regularization in machine learning, and how can it be used to prevent overfitting? Describe\n",
    "some common regularization techniques and how they work.\n",
    "'''"
   ]
  },
  {
   "cell_type": "markdown",
   "id": "23ed4db3",
   "metadata": {},
   "source": [
    "Q1: Overfitting: When a model is too complex and learns the noise in the training data, resulting in poor performance on new, unseen data. Consequences: poor generalization, high error rate on test data. Mitigation: regularization, early stopping, data augmentation.\n",
    "\n",
    "Underfitting: When a model is too simple and fails to capture the underlying patterns in the training data, resulting in poor performance on both training and test data. Consequences: poor performance, high bias. Mitigation: increasing model complexity, collecting more data.\n",
    "\n",
    "Q2: To reduce overfitting:\n",
    "\n",
    "Regularization (L1, L2, dropout)\n",
    "Early stopping\n",
    "Data augmentation\n",
    "Ensemble methods\n",
    "Cross-validation\n",
    "Q3: Underfitting occurs when a model is too simple to capture the underlying patterns in the data. Scenarios:\n",
    "\n",
    "Insufficient training data\n",
    "Model is too simple (e.g., linear model for non-linear data)\n",
    "Features are not relevant to the target variable\n",
    "Model has high bias\n",
    "Q4: Bias-variance tradeoff: The tradeoff between the error introduced by simplifying the model (bias) and the error introduced by fitting the noise in the data (variance). High bias: simple model, poor fit. High variance: complex model, overfitting.\n",
    "\n",
    "Q5: Detecting overfitting and underfitting:\n",
    "\n",
    "Plotting training and test error curves\n",
    "Using cross-validation\n",
    "Monitoring model performance on a validation set\n",
    "Analyzing model complexity and feature importance\n",
    "\n",
    "Q6: Bias: error due to simplifying the model, resulting in poor fit. High bias: simple model, poor performance.\n",
    "\n",
    "Variance: error due to fitting the noise in the data, resulting in overfitting. High variance: complex model, poor generalization.\n",
    "\n",
    "Examples:\n",
    "\n",
    "High bias: linear model for non-linear data\n",
    "High variance: decision tree with many features and few samples\n",
    "\n",
    "Q7: Regularization: adding a penalty term to the loss function to prevent overfitting. Common techniques:\n",
    "\n",
    "L1 regularization (Lasso): adds absolute value of weights to loss function\n",
    "L2 regularization (Ridge): adds squared value of weights to loss function\n",
    "Dropout: randomly drops neurons during training to prevent overfitting\n",
    "Early stopping: stops training when model performance on validation set starts to degrade\n"
   ]
  },
  {
   "cell_type": "code",
   "execution_count": null,
   "id": "a1957b28",
   "metadata": {},
   "outputs": [],
   "source": []
  }
 ],
 "metadata": {
  "kernelspec": {
   "display_name": "Python 3 (ipykernel)",
   "language": "python",
   "name": "python3"
  },
  "language_info": {
   "codemirror_mode": {
    "name": "ipython",
    "version": 3
   },
   "file_extension": ".py",
   "mimetype": "text/x-python",
   "name": "python",
   "nbconvert_exporter": "python",
   "pygments_lexer": "ipython3",
   "version": "3.11.4"
  }
 },
 "nbformat": 4,
 "nbformat_minor": 5
}
