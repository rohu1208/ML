{
 "cells": [
  {
   "cell_type": "markdown",
   "id": "6ef21b51",
   "metadata": {},
   "source": [
    "# Q1. Calculating Pearson Correlation Coefficient for Study Time and Exam Scores"
   ]
  },
  {
   "cell_type": "code",
   "execution_count": 1,
   "id": "87d36a22",
   "metadata": {},
   "outputs": [
    {
     "data": {
      "text/plain": [
       "0.9692948572674899"
      ]
     },
     "execution_count": 1,
     "metadata": {},
     "output_type": "execute_result"
    }
   ],
   "source": [
    "import pandas as pd\n",
    "import numpy as np\n",
    "from scipy.stats import pearsonr\n",
    "\n",
    "# Data\n",
    "study_time = np.array([2, 3, 5, 7, 9])\n",
    "exam_scores = np.array([50, 60, 80, 90, 95])\n",
    "\n",
    "# Calculate Pearson correlation coefficient\n",
    "corr, _ = pearsonr(study_time, exam_scores)\n",
    "corr\n"
   ]
  },
  {
   "cell_type": "markdown",
   "id": "02950d73",
   "metadata": {},
   "source": [
    "# Q2. Calculating Spearman's Rank Correlation for Sleep and Job Satisfaction"
   ]
  },
  {
   "cell_type": "code",
   "execution_count": 2,
   "id": "3da3ded1",
   "metadata": {},
   "outputs": [
    {
     "data": {
      "text/plain": [
       "0.9999999999999999"
      ]
     },
     "execution_count": 2,
     "metadata": {},
     "output_type": "execute_result"
    }
   ],
   "source": [
    "import pandas as pd\n",
    "import numpy as np\n",
    "from scipy.stats import spearmanr\n",
    "\n",
    "# Data\n",
    "sleep_hours = np.array([6, 7, 5, 8, 9])\n",
    "job_satisfaction = np.array([4, 5, 3, 7, 8])\n",
    "\n",
    "# Calculate Spearman's rank correlation coefficient\n",
    "corr, _ = spearmanr(sleep_hours, job_satisfaction)\n",
    "corr\n"
   ]
  },
  {
   "cell_type": "markdown",
   "id": "1adebcb8",
   "metadata": {},
   "source": [
    "# Q3. Calculating Pearson and Spearman Correlation for Exercise and BMI"
   ]
  },
  {
   "cell_type": "code",
   "execution_count": 3,
   "id": "5cf3e3cb",
   "metadata": {},
   "outputs": [
    {
     "data": {
      "text/plain": [
       "(-0.9555173505007093, -0.8999999999999998)"
      ]
     },
     "execution_count": 3,
     "metadata": {},
     "output_type": "execute_result"
    }
   ],
   "source": [
    "import pandas as pd\n",
    "import numpy as np\n",
    "from scipy.stats import pearsonr, spearmanr\n",
    "\n",
    "# Sample data\n",
    "exercise_hours = np.array([2, 5, 7, 4, 6])\n",
    "bmi = np.array([28.0, 25.5, 24.0, 26.0, 23.5])\n",
    "\n",
    "# Calculate Pearson correlation coefficient\n",
    "pearson_corr, _ = pearsonr(exercise_hours, bmi)\n",
    "\n",
    "# Calculate Spearman's rank correlation coefficient\n",
    "spearman_corr, _ = spearmanr(exercise_hours, bmi)\n",
    "\n",
    "pearson_corr, spearman_corr\n"
   ]
  },
  {
   "cell_type": "markdown",
   "id": "92d0fed9",
   "metadata": {},
   "source": [
    "# Q4. Calculating Pearson Correlation for TV Watching and Physical Activity"
   ]
  },
  {
   "cell_type": "code",
   "execution_count": 4,
   "id": "71e2b7e3",
   "metadata": {},
   "outputs": [
    {
     "data": {
      "text/plain": [
       "-1.0"
      ]
     },
     "execution_count": 4,
     "metadata": {},
     "output_type": "execute_result"
    }
   ],
   "source": [
    "import pandas as pd\n",
    "import numpy as np\n",
    "from scipy.stats import pearsonr\n",
    "\n",
    "# Data\n",
    "tv_watching = np.array([3, 2, 4, 5, 1])\n",
    "physical_activity = np.array([6, 7, 5, 4, 8])\n",
    "\n",
    "# Calculate Pearson correlation coefficient\n",
    "corr, _ = pearsonr(tv_watching, physical_activity)\n",
    "corr\n"
   ]
  },
  {
   "cell_type": "markdown",
   "id": "c96d3187",
   "metadata": {},
   "source": [
    "# Q5. Survey Results: Age and Preference for Soft Drink Brand"
   ]
  },
  {
   "cell_type": "code",
   "execution_count": 5,
   "id": "5da94e38",
   "metadata": {},
   "outputs": [
    {
     "data": {
      "text/plain": [
       "0.5986509304326991"
      ]
     },
     "execution_count": 5,
     "metadata": {},
     "output_type": "execute_result"
    }
   ],
   "source": [
    "import pandas as pd\n",
    "import numpy as np\n",
    "from sklearn.preprocessing import LabelEncoder\n",
    "from scipy.stats import pearsonr\n",
    "\n",
    "# Data\n",
    "age = np.array([18, 25, 22, 30, 40])\n",
    "soft_drink_preference = np.array(['Brand A', 'Brand B', 'Brand A', 'Brand C', 'Brand B'])\n",
    "\n",
    "# Label Encoding\n",
    "encoder = LabelEncoder()\n",
    "encoded_preference = encoder.fit_transform(soft_drink_preference)\n",
    "\n",
    "# Calculate Pearson correlation coefficient\n",
    "corr, _ = pearsonr(age, encoded_preference)\n",
    "corr\n"
   ]
  },
  {
   "cell_type": "markdown",
   "id": "dc7d10a9",
   "metadata": {},
   "source": [
    "# Q6. Calculating Pearson Correlation for Sales Calls and Sales"
   ]
  },
  {
   "cell_type": "code",
   "execution_count": 6,
   "id": "3273f6d3",
   "metadata": {},
   "outputs": [
    {
     "data": {
      "text/plain": [
       "0.9999999999999997"
      ]
     },
     "execution_count": 6,
     "metadata": {},
     "output_type": "execute_result"
    }
   ],
   "source": [
    "import pandas as pd\n",
    "import numpy as np\n",
    "from scipy.stats import pearsonr\n",
    "\n",
    "# Data\n",
    "sales_calls_per_day = np.array([10, 20, 30, 25, 15])\n",
    "sales_per_week = np.array([15, 25, 35, 30, 20])\n",
    "\n",
    "# Calculate Pearson correlation coefficient\n",
    "corr, _ = pearsonr(sales_calls_per_day, sales_per_week)\n",
    "corr\n"
   ]
  },
  {
   "cell_type": "code",
   "execution_count": null,
   "id": "2f07afb9",
   "metadata": {},
   "outputs": [],
   "source": []
  }
 ],
 "metadata": {
  "kernelspec": {
   "display_name": "Python 3 (ipykernel)",
   "language": "python",
   "name": "python3"
  },
  "language_info": {
   "codemirror_mode": {
    "name": "ipython",
    "version": 3
   },
   "file_extension": ".py",
   "mimetype": "text/x-python",
   "name": "python",
   "nbconvert_exporter": "python",
   "pygments_lexer": "ipython3",
   "version": "3.11.4"
  }
 },
 "nbformat": 4,
 "nbformat_minor": 5
}
