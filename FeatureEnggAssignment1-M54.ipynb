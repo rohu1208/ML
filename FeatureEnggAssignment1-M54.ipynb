{
 "cells": [
  {
   "cell_type": "markdown",
   "id": "1dce80bd",
   "metadata": {},
   "source": [
    "# Q1: Missing Values in a Dataset\n",
    "Missing values are data points where no value is stored for a variable in an observation.\n",
    "\n",
    "Importance:\n",
    "\n",
    "Affects the performance and accuracy of machine learning models.\n",
    "Leads to biased or invalid results if not properly handled.\n",
    "Algorithms Not Affected by Missing Values:\n",
    "\n",
    "Decision Trees\n",
    "Random Forests\n",
    "Gradient Boosting (e.g., XGBoost)\n",
    "These algorithms can handle missing values inherently by considering alternative paths in trees."
   ]
  },
  {
   "cell_type": "markdown",
   "id": "b3afca84",
   "metadata": {},
   "source": [
    "# Q2: Techniques to Handle Missing Data"
   ]
  },
  {
   "cell_type": "code",
   "execution_count": 1,
   "id": "b7a31d55",
   "metadata": {},
   "outputs": [
    {
     "data": {
      "text/html": [
       "<div>\n",
       "<style scoped>\n",
       "    .dataframe tbody tr th:only-of-type {\n",
       "        vertical-align: middle;\n",
       "    }\n",
       "\n",
       "    .dataframe tbody tr th {\n",
       "        vertical-align: top;\n",
       "    }\n",
       "\n",
       "    .dataframe thead th {\n",
       "        text-align: right;\n",
       "    }\n",
       "</style>\n",
       "<table border=\"1\" class=\"dataframe\">\n",
       "  <thead>\n",
       "    <tr style=\"text-align: right;\">\n",
       "      <th></th>\n",
       "      <th>A</th>\n",
       "      <th>B</th>\n",
       "    </tr>\n",
       "  </thead>\n",
       "  <tbody>\n",
       "    <tr>\n",
       "      <th>0</th>\n",
       "      <td>1.0</td>\n",
       "      <td>4.0</td>\n",
       "    </tr>\n",
       "  </tbody>\n",
       "</table>\n",
       "</div>"
      ],
      "text/plain": [
       "     A    B\n",
       "0  1.0  4.0"
      ]
     },
     "execution_count": 1,
     "metadata": {},
     "output_type": "execute_result"
    }
   ],
   "source": [
    "# 1] removal\n",
    "import pandas as pd\n",
    "df = pd.DataFrame({'A': [1, 2, None], 'B': [4, None, 6]})\n",
    "df.dropna()  # Drops rows with any missing values\n"
   ]
  },
  {
   "cell_type": "code",
   "execution_count": 2,
   "id": "6ce4d865",
   "metadata": {},
   "outputs": [],
   "source": [
    "# mean /median\n",
    "df.fillna(df.mean(), inplace=True)\n"
   ]
  },
  {
   "cell_type": "code",
   "execution_count": null,
   "id": "4623eb13",
   "metadata": {},
   "outputs": [],
   "source": []
  },
  {
   "cell_type": "markdown",
   "id": "20a5f9ba",
   "metadata": {},
   "source": [
    "# Q3: Imbalanced Data\n",
    "Imbalanced data: When classes in a dataset are not represented equally.\n",
    "Impact: Models may become biased towards the majority class, leading to poor performance on the minority class."
   ]
  },
  {
   "cell_type": "markdown",
   "id": "ce29273b",
   "metadata": {},
   "source": [
    "# Q4: Up-sampling and Down-sampling# "
   ]
  },
  {
   "cell_type": "code",
   "execution_count": 4,
   "id": "dce85c39",
   "metadata": {},
   "outputs": [
    {
     "ename": "NameError",
     "evalue": "name 'minority_class' is not defined",
     "output_type": "error",
     "traceback": [
      "\u001b[1;31m---------------------------------------------------------------------------\u001b[0m",
      "\u001b[1;31mNameError\u001b[0m                                 Traceback (most recent call last)",
      "Cell \u001b[1;32mIn[4], line 2\u001b[0m\n\u001b[0;32m      1\u001b[0m \u001b[38;5;28;01mfrom\u001b[39;00m \u001b[38;5;21;01msklearn\u001b[39;00m\u001b[38;5;21;01m.\u001b[39;00m\u001b[38;5;21;01mutils\u001b[39;00m \u001b[38;5;28;01mimport\u001b[39;00m resample\n\u001b[1;32m----> 2\u001b[0m minority_upsampled \u001b[38;5;241m=\u001b[39m resample(minority_class, replace\u001b[38;5;241m=\u001b[39m\u001b[38;5;28;01mTrue\u001b[39;00m, n_samples\u001b[38;5;241m=\u001b[39m\u001b[38;5;28mlen\u001b[39m(majority_class))\n\u001b[0;32m      3\u001b[0m majority_downsampled \u001b[38;5;241m=\u001b[39m resample(majority_class, replace\u001b[38;5;241m=\u001b[39m\u001b[38;5;28;01mFalse\u001b[39;00m, n_samples\u001b[38;5;241m=\u001b[39m\u001b[38;5;28mlen\u001b[39m(minority_class))\n",
      "\u001b[1;31mNameError\u001b[0m: name 'minority_class' is not defined"
     ]
    }
   ],
   "source": [
    "from sklearn.utils import resample\n",
    "minority_upsampled = resample(minority_class, replace=True, n_samples=len(majority_class))\n",
    "majority_downsampled = resample(majority_class, replace=False, n_samples=len(minority_class))\n"
   ]
  },
  {
   "cell_type": "markdown",
   "id": "723bbae5",
   "metadata": {},
   "source": [
    "# Q5: Data Augmentation & SMOTE\n",
    "Data Augmentation: Creating new data points from existing ones (commonly used in image data).\n",
    "\n",
    "SMOTE (Synthetic Minority Over-sampling Technique): Generates synthetic samples for the minority class."
   ]
  },
  {
   "cell_type": "code",
   "execution_count": 6,
   "id": "c21b71dc",
   "metadata": {},
   "outputs": [
    {
     "data": {
      "text/plain": [
       "'from imblearn.over_sampling import SMOTE\\nsm = SMOTE(random_state=42)\\nX_res, y_res = sm.fit_resample(X, y)\\n\\n'"
      ]
     },
     "execution_count": 6,
     "metadata": {},
     "output_type": "execute_result"
    }
   ],
   "source": [
    "'''from imblearn.over_sampling import SMOTE\n",
    "sm = SMOTE(random_state=42)\n",
    "X_res, y_res = sm.fit_resample(X, y)\n",
    "\n",
    "'''"
   ]
  },
  {
   "cell_type": "raw",
   "id": "4dbf1e25",
   "metadata": {},
   "source": [
    "# Q6: Outliers in a Dataset\n",
    "Outliers: Data points significantly different from others.\n",
    "\n",
    "Importance: Can skew results and affect model performance.\n",
    "\n",
    "Q7: Handling Missing Data\n",
    "Imputation (mean, median, mode).\n",
    "Predictive models for imputation.\n",
    "Remove rows/columns with many missing values.\n",
    "Q8: Missing Data Patterns\n",
    "Strategies:\n",
    "\n",
    "Visualizations: Heatmaps, bar plots.\n",
    "Statistical Tests: Little’s MCAR test to check if missing data is completely at random.\n",
    "Q9: Evaluating Imbalanced Data Models\n",
    "Metrics: Precision, recall, F1-score, ROC-AUC.\n",
    "Techniques: Cross-validation, resampling methods.\n",
    "Q10: Balancing Dataset & Down-sampling\n",
    "Methods:\n",
    "\n",
    "Random Down-sampling: Reduce majority class size.\n",
    "Cluster-based methods: K-means clustering to create representative samples.\n",
    "Q11: Balancing Dataset & Up-sampling\n",
    "Methods:\n",
    "\n",
    "Random Up-sampling: Increase minority class size.\n",
    "SMOTE: Generate synthetic samples.\n",
    "ADASYN: Adaptive synthetic sampling method."
   ]
  },
  {
   "cell_type": "code",
   "execution_count": 7,
   "id": "20c70ddc",
   "metadata": {},
   "outputs": [
    {
     "data": {
      "text/plain": [
       "'from imblearn.over_sampling import ADASYN\\nada = ADASYN(random_state=42)\\nX_res, y_res = ada.fit_resample(X, y)\\n'"
      ]
     },
     "execution_count": 7,
     "metadata": {},
     "output_type": "execute_result"
    }
   ],
   "source": [
    "'''from imblearn.over_sampling import ADASYN\n",
    "ada = ADASYN(random_state=42)\n",
    "X_res, y_res = ada.fit_resample(X, y)\n",
    "'''"
   ]
  },
  {
   "cell_type": "code",
   "execution_count": null,
   "id": "5e0c2e4a",
   "metadata": {},
   "outputs": [],
   "source": []
  }
 ],
 "metadata": {
  "kernelspec": {
   "display_name": "Python 3 (ipykernel)",
   "language": "python",
   "name": "python3"
  },
  "language_info": {
   "codemirror_mode": {
    "name": "ipython",
    "version": 3
   },
   "file_extension": ".py",
   "mimetype": "text/x-python",
   "name": "python",
   "nbconvert_exporter": "python",
   "pygments_lexer": "ipython3",
   "version": "3.11.4"
  }
 },
 "nbformat": 4,
 "nbformat_minor": 5
}
